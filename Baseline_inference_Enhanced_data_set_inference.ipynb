{
 "cells": [
  {
   "cell_type": "code",
   "execution_count": 48,
   "metadata": {},
   "outputs": [
    {
     "name": "stdout",
     "output_type": "stream",
     "text": [
      "__________________________________________________________________________________________________\n",
      "Layer (type)                    Output Shape         Param #     Connected to                     \n",
      "==================================================================================================\n",
      "input_12 (InputLayer)           (None, 256, 256, 6)  0                                            \n",
      "__________________________________________________________________________________________________\n",
      "conv2d_254 (Conv2D)             (None, 256, 256, 64) 3520        input_12[0][0]                   \n",
      "__________________________________________________________________________________________________\n",
      "batch_normalization_243 (BatchN (None, 256, 256, 64) 256         conv2d_254[0][0]                 \n",
      "__________________________________________________________________________________________________\n",
      "conv2d_255 (Conv2D)             (None, 256, 256, 64) 36928       batch_normalization_243[0][0]    \n",
      "__________________________________________________________________________________________________\n",
      "batch_normalization_244 (BatchN (None, 256, 256, 64) 256         conv2d_255[0][0]                 \n",
      "__________________________________________________________________________________________________\n",
      "max_pooling2d_45 (MaxPooling2D) (None, 128, 128, 64) 0           batch_normalization_244[0][0]    \n",
      "__________________________________________________________________________________________________\n",
      "conv2d_256 (Conv2D)             (None, 128, 128, 128 73856       max_pooling2d_45[0][0]           \n",
      "__________________________________________________________________________________________________\n",
      "batch_normalization_245 (BatchN (None, 128, 128, 128 512         conv2d_256[0][0]                 \n",
      "__________________________________________________________________________________________________\n",
      "conv2d_257 (Conv2D)             (None, 128, 128, 128 147584      batch_normalization_245[0][0]    \n",
      "__________________________________________________________________________________________________\n",
      "batch_normalization_246 (BatchN (None, 128, 128, 128 512         conv2d_257[0][0]                 \n",
      "__________________________________________________________________________________________________\n",
      "max_pooling2d_46 (MaxPooling2D) (None, 64, 64, 128)  0           batch_normalization_246[0][0]    \n",
      "__________________________________________________________________________________________________\n",
      "conv2d_258 (Conv2D)             (None, 64, 64, 256)  295168      max_pooling2d_46[0][0]           \n",
      "__________________________________________________________________________________________________\n",
      "batch_normalization_247 (BatchN (None, 64, 64, 256)  1024        conv2d_258[0][0]                 \n",
      "__________________________________________________________________________________________________\n",
      "conv2d_259 (Conv2D)             (None, 64, 64, 256)  590080      batch_normalization_247[0][0]    \n",
      "__________________________________________________________________________________________________\n",
      "batch_normalization_248 (BatchN (None, 64, 64, 256)  1024        conv2d_259[0][0]                 \n",
      "__________________________________________________________________________________________________\n",
      "max_pooling2d_47 (MaxPooling2D) (None, 32, 32, 256)  0           batch_normalization_248[0][0]    \n",
      "__________________________________________________________________________________________________\n",
      "conv2d_260 (Conv2D)             (None, 32, 32, 512)  1180160     max_pooling2d_47[0][0]           \n",
      "__________________________________________________________________________________________________\n",
      "batch_normalization_249 (BatchN (None, 32, 32, 512)  2048        conv2d_260[0][0]                 \n",
      "__________________________________________________________________________________________________\n",
      "conv2d_261 (Conv2D)             (None, 32, 32, 512)  2359808     batch_normalization_249[0][0]    \n",
      "__________________________________________________________________________________________________\n",
      "batch_normalization_250 (BatchN (None, 32, 32, 512)  2048        conv2d_261[0][0]                 \n",
      "__________________________________________________________________________________________________\n",
      "dropout_23 (Dropout)            (None, 32, 32, 512)  0           batch_normalization_250[0][0]    \n",
      "__________________________________________________________________________________________________\n",
      "max_pooling2d_48 (MaxPooling2D) (None, 16, 16, 512)  0           dropout_23[0][0]                 \n",
      "__________________________________________________________________________________________________\n",
      "conv2d_262 (Conv2D)             (None, 16, 16, 1024) 4719616     max_pooling2d_48[0][0]           \n",
      "__________________________________________________________________________________________________\n",
      "batch_normalization_251 (BatchN (None, 16, 16, 1024) 4096        conv2d_262[0][0]                 \n",
      "__________________________________________________________________________________________________\n",
      "conv2d_263 (Conv2D)             (None, 16, 16, 1024) 9438208     batch_normalization_251[0][0]    \n",
      "__________________________________________________________________________________________________\n",
      "batch_normalization_252 (BatchN (None, 16, 16, 1024) 4096        conv2d_263[0][0]                 \n",
      "__________________________________________________________________________________________________\n",
      "dropout_24 (Dropout)            (None, 16, 16, 1024) 0           batch_normalization_252[0][0]    \n",
      "__________________________________________________________________________________________________\n",
      "up_sampling2d_45 (UpSampling2D) (None, 32, 32, 1024) 0           dropout_24[0][0]                 \n",
      "__________________________________________________________________________________________________\n",
      "conv2d_264 (Conv2D)             (None, 32, 32, 512)  2097664     up_sampling2d_45[0][0]           \n",
      "__________________________________________________________________________________________________\n",
      "batch_normalization_253 (BatchN (None, 32, 32, 512)  2048        conv2d_264[0][0]                 \n",
      "__________________________________________________________________________________________________\n",
      "concatenate_45 (Concatenate)    (None, 32, 32, 1024) 0           dropout_23[0][0]                 \n",
      "                                                                 batch_normalization_253[0][0]    \n",
      "__________________________________________________________________________________________________\n",
      "conv2d_265 (Conv2D)             (None, 32, 32, 512)  4719104     concatenate_45[0][0]             \n",
      "__________________________________________________________________________________________________\n",
      "batch_normalization_254 (BatchN (None, 32, 32, 512)  2048        conv2d_265[0][0]                 \n",
      "__________________________________________________________________________________________________\n",
      "conv2d_266 (Conv2D)             (None, 32, 32, 512)  2359808     batch_normalization_254[0][0]    \n",
      "__________________________________________________________________________________________________\n",
      "batch_normalization_255 (BatchN (None, 32, 32, 512)  2048        conv2d_266[0][0]                 \n",
      "__________________________________________________________________________________________________\n",
      "up_sampling2d_46 (UpSampling2D) (None, 64, 64, 512)  0           batch_normalization_255[0][0]    \n",
      "__________________________________________________________________________________________________\n",
      "conv2d_267 (Conv2D)             (None, 64, 64, 256)  524544      up_sampling2d_46[0][0]           \n",
      "__________________________________________________________________________________________________\n",
      "batch_normalization_256 (BatchN (None, 64, 64, 256)  1024        conv2d_267[0][0]                 \n",
      "__________________________________________________________________________________________________\n",
      "concatenate_46 (Concatenate)    (None, 64, 64, 512)  0           batch_normalization_248[0][0]    \n",
      "                                                                 batch_normalization_256[0][0]    \n",
      "__________________________________________________________________________________________________\n",
      "conv2d_268 (Conv2D)             (None, 64, 64, 256)  1179904     concatenate_46[0][0]             \n",
      "__________________________________________________________________________________________________\n",
      "batch_normalization_257 (BatchN (None, 64, 64, 256)  1024        conv2d_268[0][0]                 \n",
      "__________________________________________________________________________________________________\n",
      "conv2d_269 (Conv2D)             (None, 64, 64, 256)  590080      batch_normalization_257[0][0]    \n",
      "__________________________________________________________________________________________________\n",
      "batch_normalization_258 (BatchN (None, 64, 64, 256)  1024        conv2d_269[0][0]                 \n",
      "__________________________________________________________________________________________________\n",
      "up_sampling2d_47 (UpSampling2D) (None, 128, 128, 256 0           batch_normalization_258[0][0]    \n",
      "__________________________________________________________________________________________________\n",
      "conv2d_270 (Conv2D)             (None, 128, 128, 128 131200      up_sampling2d_47[0][0]           \n",
      "__________________________________________________________________________________________________\n",
      "batch_normalization_259 (BatchN (None, 128, 128, 128 512         conv2d_270[0][0]                 \n",
      "__________________________________________________________________________________________________\n",
      "concatenate_47 (Concatenate)    (None, 128, 128, 256 0           batch_normalization_246[0][0]    \n",
      "                                                                 batch_normalization_259[0][0]    \n",
      "__________________________________________________________________________________________________\n",
      "conv2d_271 (Conv2D)             (None, 128, 128, 128 295040      concatenate_47[0][0]             \n",
      "__________________________________________________________________________________________________\n",
      "batch_normalization_260 (BatchN (None, 128, 128, 128 512         conv2d_271[0][0]                 \n",
      "__________________________________________________________________________________________________\n",
      "conv2d_272 (Conv2D)             (None, 128, 128, 128 147584      batch_normalization_260[0][0]    \n",
      "__________________________________________________________________________________________________\n",
      "batch_normalization_261 (BatchN (None, 128, 128, 128 512         conv2d_272[0][0]                 \n",
      "__________________________________________________________________________________________________\n",
      "up_sampling2d_48 (UpSampling2D) (None, 256, 256, 128 0           batch_normalization_261[0][0]    \n",
      "__________________________________________________________________________________________________\n",
      "conv2d_273 (Conv2D)             (None, 256, 256, 64) 32832       up_sampling2d_48[0][0]           \n",
      "__________________________________________________________________________________________________\n",
      "batch_normalization_262 (BatchN (None, 256, 256, 64) 256         conv2d_273[0][0]                 \n",
      "__________________________________________________________________________________________________\n",
      "concatenate_48 (Concatenate)    (None, 256, 256, 128 0           batch_normalization_244[0][0]    \n",
      "                                                                 batch_normalization_262[0][0]    \n",
      "__________________________________________________________________________________________________\n",
      "conv2d_274 (Conv2D)             (None, 256, 256, 64) 73792       concatenate_48[0][0]             \n",
      "__________________________________________________________________________________________________\n",
      "batch_normalization_263 (BatchN (None, 256, 256, 64) 256         conv2d_274[0][0]                 \n",
      "__________________________________________________________________________________________________\n",
      "conv2d_275 (Conv2D)             (None, 256, 256, 64) 36928       batch_normalization_263[0][0]    \n",
      "__________________________________________________________________________________________________\n",
      "batch_normalization_264 (BatchN (None, 256, 256, 64) 256         conv2d_275[0][0]                 \n",
      "__________________________________________________________________________________________________\n",
      "conv2d_276 (Conv2D)             (None, 256, 256, 6)  3462        batch_normalization_264[0][0]    \n",
      "==================================================================================================\n",
      "Total params: 31,064,262\n",
      "Trainable params: 31,050,566\n",
      "Non-trainable params: 13,696\n",
      "__________________________________________________________________________________________________\n"
     ]
    },
    {
     "name": "stdout",
     "output_type": "stream",
     "text": [
      "1/1 [==============================] - 2s 2s/step\n",
      "(1, 6, 256, 256)\n",
      "(1, 6, 256, 256)\n",
      "threshold:0.500000 mse:0.954813\n",
      "threshold:0.550000 mse:0.718323\n",
      "threshold:0.600000 mse:0.324955\n",
      "threshold:0.650000 mse:0.061052\n",
      "threshold:0.700000 mse:0.020766\n",
      "threshold:0.750000 mse:0.009357\n",
      "threshold:0.800000 mse:0.003040\n",
      "threshold:0.850000 mse:0.001428\n",
      "threshold:0.900000 mse:0.001037\n",
      "threshold:0.950000 mse:0.001431\n",
      "threshold:1.000000 mse:0.001801\n",
      "min threshold:0.900000 mse:0.001037\n"
     ]
    }
   ],
   "source": [
    "import json\n",
    "from pprint import pprint\n",
    "import pickle\n",
    "import matplotlib.pyplot as plt\n",
    "from plotLayer import *\n",
    "from preprocess import *\n",
    "\n",
    "import os\n",
    "import time\n",
    "import numpy as np\n",
    "from scipy import sparse as sp\n",
    "from skimage.measure import block_reduce\n",
    "from skimage.measure import compare_ssim as ssim\n",
    "\n",
    "from model import *\n",
    "from keras.backend.tensorflow_backend import set_session\n",
    "\n",
    "def mse(A, B):\n",
    "    err = np.sum((A.astype(\"float\") - B.astype(\"float\")) ** 2)\n",
    "    err /= float(A.shape[1] * A.shape[2])\n",
    "    return err\n",
    "\n",
    "os.environ['TF_CPP_MIN_LOG_LEVEL'] = '3'\n",
    "\n",
    "test_file_path = \"../Data/testdataset/d0_sparse_dataset0500.dat\"\n",
    "\n",
    "\n",
    "#test_file_path = \"../Data/testdataset/d0_sparse_dataset0500.dat\"\n",
    "\n",
    "\n",
    "#This is the model which Jason has created. \n",
    "\n",
    "unet_weights_path = \"Unet_epoch_20_batch_4.hdf5\"\n",
    "\n",
    "width = 256\n",
    "ratio = 1024 / width\n",
    "\n",
    "config = tf.ConfigProto()\n",
    "config.gpu_options.allow_growth = True  # dynamically grow the memory used on the GPU\n",
    "config.gpu_options.per_process_gpu_memory_fraction = 0.9\n",
    "sess = tf.Session(config=config)\n",
    "set_session(sess)\n",
    "\n",
    "unet_model = Unet(input_size=(width,width,6), batch_normal=True)\n",
    "unet_model.load_weights(unet_weights_path)\n",
    "\n",
    "with open(test_file_path, \"rb\") as f:\n",
    "    data = pickle.load(f)\n",
    "vdata = data[0:1]\n",
    "\n",
    "test_data = np.heaviside(np.array([map(lambda x: block_reduce(x.toarray(), block_size=(ratio,ratio), func=np.max), d.hL) for d in vdata]), 0)\n",
    "gt_data = np.heaviside(np.array([map(lambda x: block_reduce(x.toarray(), block_size=(ratio,ratio), func=np.max), d.gthL) for d in vdata]), 0)\n",
    "label_data = np.array([d.label for d in vdata])\n",
    "\n",
    "# swap the axis since the data shape for CNN is (width, width, channel)\n",
    "# but the original shape (num_of_images, channel, width, width)\n",
    "test_data = np.swapaxes(test_data, 1, 3)\n",
    "\n",
    "reconstruct = unet_model.predict(test_data[0:1], verbose=1)\n",
    "reconstruct = np.swapaxes(reconstruct, 1, 3)\n",
    "print(reconstruct.shape)\n",
    "print(gt_data.shape)\n",
    "\n",
    "###############################\n",
    "#\n",
    "# Save reconstructed file\n",
    "#\n",
    "###############################\n",
    "with open(\"save_output.dat\",\"wb\") as f:\n",
    "    pickle.dump((reconstruct, gt_data), f)\n",
    "\n",
    "filtered = np.copy(reconstruct[0])\n",
    "# PlotImage(np.swapaxes(test_data[0], 0, 2), gt_data[0], show=True)\n",
    "# plt.show()\n",
    "min_threshold = 0\n",
    "min_err = 99999\n",
    "\n",
    "for threshold in np.arange(0.5, 1.01, 0.05):\n",
    "    filtered[filtered < threshold] = 0\n",
    "    err = mse(filtered, gt_data[0])\n",
    "    if err < min_err:\n",
    "        min_err = err\n",
    "        min_threshold = threshold\n",
    "    print(\"threshold:%f mse:%f\" %(threshold, err))\n",
    "\n",
    "print(\"min threshold:%f mse:%f\" %(min_threshold, min_err))\n",
    "\n",
    "filtered = reconstruct[0]\n",
    "filtered[filtered < min_threshold] = 0\n",
    "# plotLayersSinglePlot(filtered, show=True)\n",
    "\n",
    "\n",
    "\n"
   ]
  },
  {
   "cell_type": "markdown",
   "metadata": {},
   "source": [
    "# Input data"
   ]
  },
  {
   "cell_type": "code",
   "execution_count": 49,
   "metadata": {},
   "outputs": [
    {
     "data": {
      "image/png": "[encoded data removed]",
      "text/plain": [
       "<Figure size 432x288 with 1 Axes>"
      ]
     },
     "metadata": {
      "needs_background": "light"
     },
     "output_type": "display_data"
    }
   ],
   "source": [
    "# The above plots are for test data set as d0_300.\n",
    "# Let's try for two more samples. \n",
    "# d0_500\n",
    "# \n",
    "\n",
    "plotLayersSinglePlot(np.swapaxes(test_data[0], 0, 2), show=True)\n"
   ]
  },
  {
   "cell_type": "markdown",
   "metadata": {},
   "source": [
    "# Groundtruth"
   ]
  },
  {
   "cell_type": "code",
   "execution_count": 50,
   "metadata": {},
   "outputs": [
    {
     "data": {
      "image/png": "[encoded data removed]",
      "text/plain": [
       "<Figure size 432x288 with 1 Axes>"
      ]
     },
     "metadata": {
      "needs_background": "light"
     },
     "output_type": "display_data"
    }
   ],
   "source": [
    "plotLayersSinglePlot(gt_data[0], show=True)"
   ]
  },
  {
   "cell_type": "markdown",
   "metadata": {},
   "source": [
    "# Output "
   ]
  },
  {
   "cell_type": "code",
   "execution_count": 51,
   "metadata": {},
   "outputs": [
    {
     "data": {
      "image/png": "[encoded data removed]",
      "text/plain": [
       "<Figure size 432x288 with 1 Axes>"
      ]
     },
     "metadata": {
      "needs_background": "light"
     },
     "output_type": "display_data"
    }
   ],
   "source": [
    "plotLayersSinglePlot(filtered, show=True)"
   ]
  },
  {
   "cell_type": "code",
   "execution_count": null,
   "metadata": {},
   "outputs": [],
   "source": [
    "#You can change the data from 300 to any other name based on the availability on the data set."
   ]
  },
  {
   "cell_type": "markdown",
   "metadata": {},
   "source": [
    "# Below data is for new autoencoder model which is trained on 8 samples of data set"
   ]
  },
  {
   "cell_type": "markdown",
   "metadata": {},
   "source": [
    "# Model with 8 samples of data set"
   ]
  },
  {
   "cell_type": "code",
   "execution_count": 52,
   "metadata": {},
   "outputs": [
    {
     "name": "stdout",
     "output_type": "stream",
     "text": [
      "__________________________________________________________________________________________________\n",
      "Layer (type)                    Output Shape         Param #     Connected to                     \n",
      "==================================================================================================\n",
      "input_13 (InputLayer)           (None, 256, 256, 6)  0                                            \n",
      "__________________________________________________________________________________________________\n",
      "conv2d_277 (Conv2D)             (None, 256, 256, 64) 3520        input_13[0][0]                   \n",
      "__________________________________________________________________________________________________\n",
      "batch_normalization_265 (BatchN (None, 256, 256, 64) 256         conv2d_277[0][0]                 \n",
      "__________________________________________________________________________________________________\n",
      "conv2d_278 (Conv2D)             (None, 256, 256, 64) 36928       batch_normalization_265[0][0]    \n",
      "__________________________________________________________________________________________________\n",
      "batch_normalization_266 (BatchN (None, 256, 256, 64) 256         conv2d_278[0][0]                 \n",
      "__________________________________________________________________________________________________\n",
      "max_pooling2d_49 (MaxPooling2D) (None, 128, 128, 64) 0           batch_normalization_266[0][0]    \n",
      "__________________________________________________________________________________________________\n",
      "conv2d_279 (Conv2D)             (None, 128, 128, 128 73856       max_pooling2d_49[0][0]           \n",
      "__________________________________________________________________________________________________\n",
      "batch_normalization_267 (BatchN (None, 128, 128, 128 512         conv2d_279[0][0]                 \n",
      "__________________________________________________________________________________________________\n",
      "conv2d_280 (Conv2D)             (None, 128, 128, 128 147584      batch_normalization_267[0][0]    \n",
      "__________________________________________________________________________________________________\n",
      "batch_normalization_268 (BatchN (None, 128, 128, 128 512         conv2d_280[0][0]                 \n",
      "__________________________________________________________________________________________________\n",
      "max_pooling2d_50 (MaxPooling2D) (None, 64, 64, 128)  0           batch_normalization_268[0][0]    \n",
      "__________________________________________________________________________________________________\n",
      "conv2d_281 (Conv2D)             (None, 64, 64, 256)  295168      max_pooling2d_50[0][0]           \n",
      "__________________________________________________________________________________________________\n",
      "batch_normalization_269 (BatchN (None, 64, 64, 256)  1024        conv2d_281[0][0]                 \n",
      "__________________________________________________________________________________________________\n",
      "conv2d_282 (Conv2D)             (None, 64, 64, 256)  590080      batch_normalization_269[0][0]    \n",
      "__________________________________________________________________________________________________\n",
      "batch_normalization_270 (BatchN (None, 64, 64, 256)  1024        conv2d_282[0][0]                 \n",
      "__________________________________________________________________________________________________\n",
      "max_pooling2d_51 (MaxPooling2D) (None, 32, 32, 256)  0           batch_normalization_270[0][0]    \n",
      "__________________________________________________________________________________________________\n",
      "conv2d_283 (Conv2D)             (None, 32, 32, 512)  1180160     max_pooling2d_51[0][0]           \n",
      "__________________________________________________________________________________________________\n",
      "batch_normalization_271 (BatchN (None, 32, 32, 512)  2048        conv2d_283[0][0]                 \n",
      "__________________________________________________________________________________________________\n",
      "conv2d_284 (Conv2D)             (None, 32, 32, 512)  2359808     batch_normalization_271[0][0]    \n",
      "__________________________________________________________________________________________________\n",
      "batch_normalization_272 (BatchN (None, 32, 32, 512)  2048        conv2d_284[0][0]                 \n",
      "__________________________________________________________________________________________________\n",
      "dropout_25 (Dropout)            (None, 32, 32, 512)  0           batch_normalization_272[0][0]    \n",
      "__________________________________________________________________________________________________\n",
      "max_pooling2d_52 (MaxPooling2D) (None, 16, 16, 512)  0           dropout_25[0][0]                 \n",
      "__________________________________________________________________________________________________\n",
      "conv2d_285 (Conv2D)             (None, 16, 16, 1024) 4719616     max_pooling2d_52[0][0]           \n",
      "__________________________________________________________________________________________________\n",
      "batch_normalization_273 (BatchN (None, 16, 16, 1024) 4096        conv2d_285[0][0]                 \n",
      "__________________________________________________________________________________________________\n",
      "conv2d_286 (Conv2D)             (None, 16, 16, 1024) 9438208     batch_normalization_273[0][0]    \n",
      "__________________________________________________________________________________________________\n",
      "batch_normalization_274 (BatchN (None, 16, 16, 1024) 4096        conv2d_286[0][0]                 \n",
      "__________________________________________________________________________________________________\n",
      "dropout_26 (Dropout)            (None, 16, 16, 1024) 0           batch_normalization_274[0][0]    \n",
      "__________________________________________________________________________________________________\n",
      "up_sampling2d_49 (UpSampling2D) (None, 32, 32, 1024) 0           dropout_26[0][0]                 \n",
      "__________________________________________________________________________________________________\n",
      "conv2d_287 (Conv2D)             (None, 32, 32, 512)  2097664     up_sampling2d_49[0][0]           \n",
      "__________________________________________________________________________________________________\n",
      "batch_normalization_275 (BatchN (None, 32, 32, 512)  2048        conv2d_287[0][0]                 \n",
      "__________________________________________________________________________________________________\n",
      "concatenate_49 (Concatenate)    (None, 32, 32, 1024) 0           dropout_25[0][0]                 \n",
      "                                                                 batch_normalization_275[0][0]    \n",
      "__________________________________________________________________________________________________\n",
      "conv2d_288 (Conv2D)             (None, 32, 32, 512)  4719104     concatenate_49[0][0]             \n",
      "__________________________________________________________________________________________________\n",
      "batch_normalization_276 (BatchN (None, 32, 32, 512)  2048        conv2d_288[0][0]                 \n",
      "__________________________________________________________________________________________________\n",
      "conv2d_289 (Conv2D)             (None, 32, 32, 512)  2359808     batch_normalization_276[0][0]    \n",
      "__________________________________________________________________________________________________\n",
      "batch_normalization_277 (BatchN (None, 32, 32, 512)  2048        conv2d_289[0][0]                 \n",
      "__________________________________________________________________________________________________\n",
      "up_sampling2d_50 (UpSampling2D) (None, 64, 64, 512)  0           batch_normalization_277[0][0]    \n",
      "__________________________________________________________________________________________________\n",
      "conv2d_290 (Conv2D)             (None, 64, 64, 256)  524544      up_sampling2d_50[0][0]           \n",
      "__________________________________________________________________________________________________\n",
      "batch_normalization_278 (BatchN (None, 64, 64, 256)  1024        conv2d_290[0][0]                 \n",
      "__________________________________________________________________________________________________\n",
      "concatenate_50 (Concatenate)    (None, 64, 64, 512)  0           batch_normalization_270[0][0]    \n",
      "                                                                 batch_normalization_278[0][0]    \n",
      "__________________________________________________________________________________________________\n",
      "conv2d_291 (Conv2D)             (None, 64, 64, 256)  1179904     concatenate_50[0][0]             \n",
      "__________________________________________________________________________________________________\n",
      "batch_normalization_279 (BatchN (None, 64, 64, 256)  1024        conv2d_291[0][0]                 \n",
      "__________________________________________________________________________________________________\n",
      "conv2d_292 (Conv2D)             (None, 64, 64, 256)  590080      batch_normalization_279[0][0]    \n",
      "__________________________________________________________________________________________________\n",
      "batch_normalization_280 (BatchN (None, 64, 64, 256)  1024        conv2d_292[0][0]                 \n",
      "__________________________________________________________________________________________________\n",
      "up_sampling2d_51 (UpSampling2D) (None, 128, 128, 256 0           batch_normalization_280[0][0]    \n",
      "__________________________________________________________________________________________________\n",
      "conv2d_293 (Conv2D)             (None, 128, 128, 128 131200      up_sampling2d_51[0][0]           \n",
      "__________________________________________________________________________________________________\n",
      "batch_normalization_281 (BatchN (None, 128, 128, 128 512         conv2d_293[0][0]                 \n",
      "__________________________________________________________________________________________________\n",
      "concatenate_51 (Concatenate)    (None, 128, 128, 256 0           batch_normalization_268[0][0]    \n",
      "                                                                 batch_normalization_281[0][0]    \n",
      "__________________________________________________________________________________________________\n",
      "conv2d_294 (Conv2D)             (None, 128, 128, 128 295040      concatenate_51[0][0]             \n",
      "__________________________________________________________________________________________________\n",
      "batch_normalization_282 (BatchN (None, 128, 128, 128 512         conv2d_294[0][0]                 \n",
      "__________________________________________________________________________________________________\n",
      "conv2d_295 (Conv2D)             (None, 128, 128, 128 147584      batch_normalization_282[0][0]    \n",
      "__________________________________________________________________________________________________\n",
      "batch_normalization_283 (BatchN (None, 128, 128, 128 512         conv2d_295[0][0]                 \n",
      "__________________________________________________________________________________________________\n",
      "up_sampling2d_52 (UpSampling2D) (None, 256, 256, 128 0           batch_normalization_283[0][0]    \n",
      "__________________________________________________________________________________________________\n",
      "conv2d_296 (Conv2D)             (None, 256, 256, 64) 32832       up_sampling2d_52[0][0]           \n",
      "__________________________________________________________________________________________________\n",
      "batch_normalization_284 (BatchN (None, 256, 256, 64) 256         conv2d_296[0][0]                 \n",
      "__________________________________________________________________________________________________\n",
      "concatenate_52 (Concatenate)    (None, 256, 256, 128 0           batch_normalization_266[0][0]    \n",
      "                                                                 batch_normalization_284[0][0]    \n",
      "__________________________________________________________________________________________________\n",
      "conv2d_297 (Conv2D)             (None, 256, 256, 64) 73792       concatenate_52[0][0]             \n",
      "__________________________________________________________________________________________________\n",
      "batch_normalization_285 (BatchN (None, 256, 256, 64) 256         conv2d_297[0][0]                 \n",
      "__________________________________________________________________________________________________\n",
      "conv2d_298 (Conv2D)             (None, 256, 256, 64) 36928       batch_normalization_285[0][0]    \n",
      "__________________________________________________________________________________________________\n",
      "batch_normalization_286 (BatchN (None, 256, 256, 64) 256         conv2d_298[0][0]                 \n",
      "__________________________________________________________________________________________________\n",
      "conv2d_299 (Conv2D)             (None, 256, 256, 6)  3462        batch_normalization_286[0][0]    \n",
      "==================================================================================================\n",
      "Total params: 31,064,262\n",
      "Trainable params: 31,050,566\n",
      "Non-trainable params: 13,696\n",
      "__________________________________________________________________________________________________\n"
     ]
    },
    {
     "name": "stdout",
     "output_type": "stream",
     "text": [
      "1/1 [==============================] - 2s 2s/step\n",
      "(1, 6, 256, 256)\n",
      "(1, 6, 256, 256)\n",
      "threshold:0.500000 mse:0.000444\n",
      "threshold:0.550000 mse:0.000527\n",
      "threshold:0.600000 mse:0.000658\n",
      "threshold:0.650000 mse:0.000724\n",
      "threshold:0.700000 mse:0.000819\n",
      "threshold:0.750000 mse:0.000946\n",
      "threshold:0.800000 mse:0.001076\n",
      "threshold:0.850000 mse:0.001238\n",
      "threshold:0.900000 mse:0.001467\n",
      "threshold:0.950000 mse:0.001770\n",
      "threshold:1.000000 mse:0.001801\n",
      "min threshold:0.500000 mse:0.000444\n"
     ]
    }
   ],
   "source": [
    "import json\n",
    "from pprint import pprint\n",
    "import pickle\n",
    "import matplotlib.pyplot as plt\n",
    "from plotLayer import *\n",
    "from preprocess import *\n",
    "\n",
    "import os\n",
    "import time\n",
    "import numpy as np\n",
    "from scipy import sparse as sp\n",
    "from skimage.measure import block_reduce\n",
    "from skimage.measure import compare_ssim as ssim\n",
    "\n",
    "from model import *\n",
    "from keras.backend.tensorflow_backend import set_session\n",
    "\n",
    "def mse(A, B):\n",
    "    err = np.sum((A.astype(\"float\") - B.astype(\"float\")) ** 2)\n",
    "    err /= float(A.shape[1] * A.shape[2])\n",
    "    return err\n",
    "\n",
    "os.environ['TF_CPP_MIN_LOG_LEVEL'] = '3'\n",
    "\n",
    "test_file_path = \"../Data/testdataset/d0_sparse_dataset0500.dat\"\n",
    "\n",
    "\n",
    "#test_file_path = \"../Data/testdataset/d0_sparse_dataset0500.dat\"\n",
    "\n",
    "\n",
    "#This is the model which Jason has created. \n",
    "\n",
    "unet_weights_path = \"../Unet_epoch_15_batch_5.hdf5\"\n",
    "# Unet_epoch_20_batch_4.hdf5\"\n",
    "\n",
    "width = 256\n",
    "ratio = 1024 / width\n",
    "\n",
    "config = tf.ConfigProto()\n",
    "config.gpu_options.allow_growth = True  # dynamically grow the memory used on the GPU\n",
    "config.gpu_options.per_process_gpu_memory_fraction = 0.9\n",
    "sess = tf.Session(config=config)\n",
    "set_session(sess)\n",
    "\n",
    "unet_model = Unet(input_size=(width,width,6), batch_normal=True)\n",
    "unet_model.load_weights(unet_weights_path)\n",
    "\n",
    "with open(test_file_path, \"rb\") as f:\n",
    "    data = pickle.load(f)\n",
    "vdata = data[0:1]\n",
    "\n",
    "test_data = np.heaviside(np.array([map(lambda x: block_reduce(x.toarray(), block_size=(ratio,ratio), func=np.max), d.hL) for d in vdata]), 0)\n",
    "gt_data = np.heaviside(np.array([map(lambda x: block_reduce(x.toarray(), block_size=(ratio,ratio), func=np.max), d.gthL) for d in vdata]), 0)\n",
    "label_data = np.array([d.label for d in vdata])\n",
    "\n",
    "# swap the axis since the data shape for CNN is (width, width, channel)\n",
    "# but the original shape (num_of_images, channel, width, width)\n",
    "test_data = np.swapaxes(test_data, 1, 3)\n",
    "\n",
    "reconstruct = unet_model.predict(test_data[0:1], verbose=1)\n",
    "reconstruct = np.swapaxes(reconstruct, 1, 3)\n",
    "print(reconstruct.shape)\n",
    "print(gt_data.shape)\n",
    "\n",
    "###############################\n",
    "#\n",
    "# Save reconstructed file\n",
    "#\n",
    "###############################\n",
    "with open(\"save_output.dat\",\"wb\") as f:\n",
    "    pickle.dump((reconstruct, gt_data), f)\n",
    "\n",
    "filtered = np.copy(reconstruct[0])\n",
    "#PlotImage(np.swapaxes(test_data[0], 0, 2), gt_data[0], show=True)\n",
    "# plt.show()\n",
    "min_threshold = 0\n",
    "min_err = 99999\n",
    "\n",
    "for threshold in np.arange(0.5, 1.01, 0.05):\n",
    "    filtered[filtered < threshold] = 0\n",
    "    err = mse(filtered, gt_data[0])\n",
    "    if err < min_err:\n",
    "        min_err = err\n",
    "        min_threshold = threshold\n",
    "    print(\"threshold:%f mse:%f\" %(threshold, err))\n",
    "\n",
    "print(\"min threshold:%f mse:%f\" %(min_threshold, min_err))\n",
    "\n",
    "filtered = reconstruct[0]\n",
    "filtered[filtered < min_threshold] = 0\n",
    "\n",
    "\n"
   ]
  },
  {
   "cell_type": "markdown",
   "metadata": {},
   "source": [
    "# Input data\n"
   ]
  },
  {
   "cell_type": "code",
   "execution_count": 53,
   "metadata": {},
   "outputs": [
    {
     "data": {
      "image/png": "[encoded data removed]",
      "text/plain": [
       "<Figure size 432x288 with 1 Axes>"
      ]
     },
     "metadata": {
      "needs_background": "light"
     },
     "output_type": "display_data"
    }
   ],
   "source": [
    "plotLayersSinglePlot(np.swapaxes(test_data[0], 0, 2), show=True)"
   ]
  },
  {
   "cell_type": "markdown",
   "metadata": {},
   "source": [
    "# Groundtruth"
   ]
  },
  {
   "cell_type": "code",
   "execution_count": 54,
   "metadata": {},
   "outputs": [
    {
     "data": {
      "image/png": "[encoded data removed]",
      "text/plain": [
       "<Figure size 432x288 with 1 Axes>"
      ]
     },
     "metadata": {
      "needs_background": "light"
     },
     "output_type": "display_data"
    }
   ],
   "source": [
    "plotLayersSinglePlot(gt_data[0], show=True)"
   ]
  },
  {
   "cell_type": "markdown",
   "metadata": {},
   "source": [
    "# Output"
   ]
  },
  {
   "cell_type": "code",
   "execution_count": 55,
   "metadata": {},
   "outputs": [
    {
     "data": {
      "image/png": "[encoded data removed]",
      "text/plain": [
       "<Figure size 432x288 with 1 Axes>"
      ]
     },
     "metadata": {
      "needs_background": "light"
     },
     "output_type": "display_data"
    }
   ],
   "source": [
    "plotLayersSinglePlot(filtered, show=True)"
   ]
  },
  {
   "cell_type": "markdown",
   "metadata": {},
   "source": [
    "# Training loss when I'm using the model with 8 samples"
   ]
  },
  {
   "cell_type": "markdown",
   "metadata": {},
   "source": [
    "__________________________________________________________________________________________________\n",
    "Train autoencoder\n",
    "Epoch 1/1\n",
    "5/5 [==============================] - 309s 62s/step - loss: 0.0016 - acc: 0.9999\n"
   ]
  },
  {
   "cell_type": "markdown",
   "metadata": {},
   "source": [
    "Training loss checking on a new data set\n",
    "\n",
    "\n",
    "__________________________________________________________________________________________________\n",
    "Train autoencoder\n",
    "Epoch 1/1\n",
    "5/5 [==============================] - 304s 61s/step - loss: 0.0017 - acc: 0.9999\n",
    "\n",
    "\n",
    "Please find the path on server 19: \n",
    "/home/sriram/Enhance_Unet\n",
    "\n",
    "\n",
    "\n",
    "Please find the files respectively train.py train3.py for the above 2 experiments "
   ]
  },
  {
   "cell_type": "markdown",
   "metadata": {},
   "source": [
    "# Training loss when I'm using the base model"
   ]
  },
  {
   "cell_type": "markdown",
   "metadata": {},
   "source": [
    "__________________________________________________________________________________________________\n",
    "Train autoencoder\n",
    "Epoch 1/1\n",
    "5/5 [==============================] - 308s 62s/step - loss: 0.6932 - acc: 0.6289\n"
   ]
  },
  {
   "cell_type": "markdown",
   "metadata": {},
   "source": [
    "Training loss checking on a new data set\n",
    "\n",
    "\n",
    "\n",
    "Train autoencoder\n",
    "Epoch 1/1\n",
    "5/5 [==============================] - 314s 63s/step - loss: 0.6929 - acc: 0.6307\n",
    "\n",
    "\n",
    "\n",
    "\n",
    "\n",
    "\n",
    "Please find the path on server 19:\n",
    "    /home/sriram/Enhance_Unet\n",
    "\n",
    "\n",
    "\n",
    "Please find the files respectively train2.py train4.py for the above 2 experiments \n"
   ]
  },
  {
   "cell_type": "code",
   "execution_count": null,
   "metadata": {},
   "outputs": [],
   "source": []
  }
 ],
 "metadata": {
  "kernelspec": {
   "display_name": "Python 3",
   "language": "python",
   "name": "python3"
  },
  "language_info": {
   "codemirror_mode": {
    "name": "ipython",
    "version": 3
   },
   "file_extension": ".py",
   "mimetype": "text/x-python",
   "name": "python",
   "nbconvert_exporter": "python",
   "pygments_lexer": "ipython3",
   "version": "3.6.6"
  }
 },
 "nbformat": 4,
 "nbformat_minor": 2
}
